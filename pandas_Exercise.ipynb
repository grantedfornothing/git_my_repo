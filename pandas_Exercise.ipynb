{
  "nbformat": 4,
  "nbformat_minor": 0,
  "metadata": {
    "colab": {
      "provenance": []
    },
    "kernelspec": {
      "name": "python3",
      "display_name": "Python 3"
    },
    "language_info": {
      "name": "python"
    }
  },
  "cells": [
    {
      "cell_type": "code",
      "execution_count": 13,
      "metadata": {
        "colab": {
          "base_uri": "https://localhost:8080/"
        },
        "id": "1afeJcmXCk47",
        "outputId": "1a446c01-a682-4163-a303-15e21765ed28"
      },
      "outputs": [
        {
          "output_type": "stream",
          "name": "stdout",
          "text": [
            "  name  age   salary\n",
            "0  앨리스   25   50,000\n",
            "1    밥   30   60,000\n",
            "2   찰리   35   70,000\n",
            "3  제임스   30  400,000\n",
            "4  앨리스   25   50,000\n",
            "5    밥   30   60,000\n",
            "6   찰리   35   70,000\n",
            "7  제임스   30  400,000\n"
          ]
        }
      ],
      "source": [
        "import pandas as pd\n",
        "\n",
        "# 데이터를 불러옵니다. 예시 데이터를 사용하겠습니다.\n",
        "\n",
        "from google.colab import drive\n",
        "file_path = '/content/drive/MyDrive/my_data.csv'\n",
        "df = pd.read_csv(file_path)\n",
        "\n",
        "# Unnamed: 0을 number로 이름을 변경합니다.\n",
        "df.rename(columns={\"Unnamed: 0\": \"number\"}, inplace=True)\n",
        "\n",
        "# number 로 표시되는 열을 지웁니다.\n",
        "df.drop(['number'], axis = 1, inplace = True)\n",
        "\n",
        "# index를 지웁니다.\n",
        "df.reset_index(drop=True)\n",
        "\n",
        "# \"name\" 컬럼의 영문 이름을 한글로 바꿉니다.\n",
        "def convert_to_korean(name):\n",
        "    name_mapping = {\n",
        "        \"Alice\": \"앨리스\",\n",
        "        \"Bob\": \"밥\",\n",
        "        \"Charlie\": \"찰리\",\n",
        "        \"james\": \"제임스\",\n",
        "    }\n",
        "    return name_mapping.get(name, name)  # 매핑이 없으면 그대로 반환합니다.\n",
        "\n",
        "df[\"name\"] = df[\"name\"].apply(convert_to_korean)\n",
        "\n",
        "# \"salary\" 컬럼의 숫자를 세자리 단위로 comma를 넣어서 값을 바꿉니다.\n",
        "df[\"salary\"] = df[\"salary\"].apply(lambda x: format(x, \",\"))\n",
        "\n",
        "# 결과를 확인합니다.\n",
        "print(df)\n",
        "\n",
        "# 결과를 csv 파일로 저장합니다.\n",
        "df.to_csv(\"modified_data.csv\", index=False, encoding='utf-8-sig')\n"
      ]
    }
  ]
}